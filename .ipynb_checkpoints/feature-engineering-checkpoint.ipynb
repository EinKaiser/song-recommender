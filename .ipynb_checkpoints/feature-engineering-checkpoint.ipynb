{
 "cells": [
  {
   "cell_type": "markdown",
   "metadata": {},
   "source": [
    "## Building a Spotify Recommender based on Listening History and Song Features\n",
    "### Introduction\n",
    "Based on my Spotify Wrapped for 2019, I accumulated 120,000+ minutes of listening which translates to over 2000 hours, which also translates to a whooping 83.3 days. So I do consider myself a huge music enthusiast and enjoy exploring all the different genres music has to offer. Because of my extensive listening history, I realized I had a lot of data to work with to **create a classifier that will state whether or not I would like to listen to a song or not.**\n",
    "\n",
    "### About the Data \n",
    "We used two datasets in this project: \"StreamingHistory.csv\" (my Spotify listening history) and \"SpotifyFeatures.csv\" (dataset with song features). StreamingHistory.csv was obtained through Spotify with a json drop and SpotifyFeatures.csv was downloaded from kaggle. (https://tinyurl.com/y7mpts3e)\n",
    "\n",
    "StreamingHistory.csv has 66,203 rows and 4 columns (Artist, Date, msPlayed, trackName). SpotifyFeatures.csv contains 223,044 rows and 17 columns. Of these 17 columns, 14 are related to a song's feautures such as popularity, mode, key, and etc. (Read more about the features here: https://developer.spotify.com/documentation/web-api/reference/tracks/get-audio-features/) Moreover, each row represents an individual song. \n",
    "\n",
    "### Goal\n",
    "In this project, I will build a song recommender based on my personal Spotify listening history and a Spotify song features dataset. **To accomplish this, I will compare 3 classifier models: Logistic Regression, Decision Trees and Random Forest, and evaluate each model based on the F1 score. In addition, I will be able to discover which song features appeal to my song preferences more.** \n",
    "\n",
    "#### Why use F1 score? \n",
    "The F1 score enables us to take into account false negatives and false positives when calculating the accuracy of a model. If we use the generic accuracy_score method, false positives would be considered as correct predictions which is something that is inaccurate and would mislead me into thinking my model is more accurate than it is. \n",
    "#### What is a \"favorite\" song?\n",
    "The variable that I will be predicting will be a binary feature with 0 representing \"not a favorite\" and 1 representing a favorite. I will create this binary feature through my personal listening history and label songs with more than 15 listens as a favorite and those with less as \"not a favorite\". Why 15? When I plotted the song counts on a histogram, there was a drop in song frequencies around 15. I concluded that this would be a good cut off as songs past the cut off were clearly less in number than those before. There most be something about those songs that create this cutoff. As a result, I would be able to hone in on the features that makes a song a favorite more. \n",
    "\n",
    "![favorite](favorite.png)\n",
    "\n",
    "### Process\n",
    "* Data Cleaning / Exploration \n",
    "* Balancing Classes with Oversampling (SMOTE) and Feature Selection\n",
    "* Model Selection with Cross-validation and Hyperparameter Optimization\n",
    "* Predicting Songs and Saving Dataset for Personal Use\n",
    "\n",
    "### Project Value and Actionable Next Steps\n",
    "This project will enable me to obtain a mass recommendation of songs at once instead of having to go through options such as Discover Weekly (limited to 30 songs), look through different playlists, or opt for a playlist radio. Moreover, with the recommendations generated from this project, I can automate playlist creations by converting the .csv recommendations file into a Spotify playlist, making it convenient for me to access new music instead of adding it manually song by song. Link to that script can be found here: https://github.com/isacmlee/csv-to-playlist.\n",
    "\n",
    "\n",
    "### Conclusion / Results\n",
    "Through this project, I was able to fit a Random Forest Tree Classifier with a F1 score of around 99%, confirmed through cross-validation as well as unseen test data. The Logistic Regression model had the lowest F1 score of 79% while the Decision Tree was close to the Random Forest Tree at 97%. \n",
    "\n",
    "I also discovered that the song features that had the most association with a favorite song of mine were popularity (+ association), danceability (+ association), and instrumentalness (- association). This finding indicates that my music taste is generally mainstream with good characteristics of a dance song but also with more focus on words. All these features appear to represent the Pop genre, which may indicate that is may favorite genre.\n",
    "\n",
    "![correlation](corr.png)\n",
    "\n",
    "\n",
    "With these features and a hyperparameterized Decision Tree model, I was able to recommend songs that I would favorite and create a playlist with these songs. "
   ]
  },
  {
   "cell_type": "markdown",
   "metadata": {},
   "source": [
    "# Code\n"
   ]
  },
  {
   "cell_type": "markdown",
   "metadata": {},
   "source": [
    "### Data Cleaning / Exploration "
   ]
  },
  {
   "cell_type": "code",
   "execution_count": 1,
   "metadata": {},
   "outputs": [],
   "source": [
    "# Importing required libraries.\n",
    "import pandas as pd\n",
    "import numpy as np\n",
    "import seaborn as sns \n",
    "import matplotlib.pyplot as plt \n",
    "from imblearn.over_sampling import SMOTE"
   ]
  },
  {
   "cell_type": "code",
   "execution_count": 2,
   "metadata": {},
   "outputs": [
    {
     "data": {
      "text/html": [
       "<div>\n",
       "<style scoped>\n",
       "    .dataframe tbody tr th:only-of-type {\n",
       "        vertical-align: middle;\n",
       "    }\n",
       "\n",
       "    .dataframe tbody tr th {\n",
       "        vertical-align: top;\n",
       "    }\n",
       "\n",
       "    .dataframe thead th {\n",
       "        text-align: right;\n",
       "    }\n",
       "</style>\n",
       "<table border=\"1\" class=\"dataframe\">\n",
       "  <thead>\n",
       "    <tr style=\"text-align: right;\">\n",
       "      <th></th>\n",
       "      <th>Unnamed: 0</th>\n",
       "      <th>artistName</th>\n",
       "      <th>endTime</th>\n",
       "      <th>msPlayed</th>\n",
       "      <th>trackName</th>\n",
       "    </tr>\n",
       "  </thead>\n",
       "  <tbody>\n",
       "    <tr>\n",
       "      <th>0</th>\n",
       "      <td>0</td>\n",
       "      <td>Roy Woods</td>\n",
       "      <td>2018-12-18 21:44</td>\n",
       "      <td>77725</td>\n",
       "      <td>Down Girl</td>\n",
       "    </tr>\n",
       "    <tr>\n",
       "      <th>1</th>\n",
       "      <td>1</td>\n",
       "      <td>Drake</td>\n",
       "      <td>2018-12-19 01:27</td>\n",
       "      <td>1000</td>\n",
       "      <td>Marvins Room</td>\n",
       "    </tr>\n",
       "    <tr>\n",
       "      <th>2</th>\n",
       "      <td>2</td>\n",
       "      <td>Roy Woods</td>\n",
       "      <td>2018-12-19 01:27</td>\n",
       "      <td>2370</td>\n",
       "      <td>Down Girl</td>\n",
       "    </tr>\n",
       "    <tr>\n",
       "      <th>3</th>\n",
       "      <td>3</td>\n",
       "      <td>Sabrina Claudio</td>\n",
       "      <td>2018-12-19 01:32</td>\n",
       "      <td>214607</td>\n",
       "      <td>Too Much Too Late</td>\n",
       "    </tr>\n",
       "    <tr>\n",
       "      <th>4</th>\n",
       "      <td>4</td>\n",
       "      <td>Logic</td>\n",
       "      <td>2018-12-19 01:35</td>\n",
       "      <td>182266</td>\n",
       "      <td>44 Bars</td>\n",
       "    </tr>\n",
       "  </tbody>\n",
       "</table>\n",
       "</div>"
      ],
      "text/plain": [
       "   Unnamed: 0       artistName           endTime  msPlayed          trackName\n",
       "0           0        Roy Woods  2018-12-18 21:44     77725          Down Girl\n",
       "1           1            Drake  2018-12-19 01:27      1000       Marvins Room\n",
       "2           2        Roy Woods  2018-12-19 01:27      2370          Down Girl\n",
       "3           3  Sabrina Claudio  2018-12-19 01:32    214607  Too Much Too Late\n",
       "4           4            Logic  2018-12-19 01:35    182266            44 Bars"
      ]
     },
     "execution_count": 2,
     "metadata": {},
     "output_type": "execute_result"
    }
   ],
   "source": [
    "# Read-in Personal Listening History\n",
    "df = pd.read_csv(\"StreamingHistory.csv\")\n",
    "df.head()"
   ]
  },
  {
   "cell_type": "code",
   "execution_count": 3,
   "metadata": {},
   "outputs": [],
   "source": [
    "# Dropping irrelevant columns \n",
    "df = df.drop('Unnamed: 0', axis=1)\n",
    "# Renaming the column names\n",
    "df = df.rename(columns={\"artistName\":\"artist\",\"endTime\":\"date\",\"trackName\":\"track\"})"
   ]
  },
  {
   "cell_type": "markdown",
   "metadata": {},
   "source": [
    "I will define a favorite song as a song with 15 or more listens and create a new dataframe that contains only those songs.\n",
    "\n",
    "**Why did we choose 15?**\n",
    "\n",
    "\n",
    "As seen from the histogram below, the first major drop in song frequencies comes around 15. This enables me to eliminate many songs that may cause the model to be more complicated and also prevents me from taking into account songs that I may have accidently listened to on the radio instead of intentionally listening to it. "
   ]
  },
  {
   "cell_type": "code",
   "execution_count": 4,
   "metadata": {},
   "outputs": [
    {
     "data": {
      "text/plain": [
       "Text(0.5, 1.0, \"Choosing what is a 'favorite' song\")"
      ]
     },
     "execution_count": 4,
     "metadata": {},
     "output_type": "execute_result"
    },
    {
     "data": {
      "image/png": "[encoded data removed]",
      "text/plain": [
       "<Figure size 432x288 with 1 Axes>"
      ]
     },
     "metadata": {
      "needs_background": "light"
     },
     "output_type": "display_data"
    }
   ],
   "source": [
    "ax = df.groupby(['artist','track']).size().to_frame('count').reset_index().plot(kind='hist',bins=9)\n",
    "ax.set_xlim(0,40)\n",
    "ax.set_title(\"Choosing what is a 'favorite' song\")"
   ]
  },
  {
   "cell_type": "code",
   "execution_count": 5,
   "metadata": {},
   "outputs": [
    {
     "data": {
      "text/html": [
       "<div>\n",
       "<style scoped>\n",
       "    .dataframe tbody tr th:only-of-type {\n",
       "        vertical-align: middle;\n",
       "    }\n",
       "\n",
       "    .dataframe tbody tr th {\n",
       "        vertical-align: top;\n",
       "    }\n",
       "\n",
       "    .dataframe thead th {\n",
       "        text-align: right;\n",
       "    }\n",
       "</style>\n",
       "<table border=\"1\" class=\"dataframe\">\n",
       "  <thead>\n",
       "    <tr style=\"text-align: right;\">\n",
       "      <th></th>\n",
       "      <th>artist</th>\n",
       "      <th>track</th>\n",
       "      <th>count</th>\n",
       "    </tr>\n",
       "  </thead>\n",
       "  <tbody>\n",
       "    <tr>\n",
       "      <th>42</th>\n",
       "      <td>5 Seconds of Summer</td>\n",
       "      <td>Youngblood</td>\n",
       "      <td>20</td>\n",
       "    </tr>\n",
       "    <tr>\n",
       "      <th>50</th>\n",
       "      <td>6LACK</td>\n",
       "      <td>Ex Calling</td>\n",
       "      <td>25</td>\n",
       "    </tr>\n",
       "    <tr>\n",
       "      <th>57</th>\n",
       "      <td>6LACK</td>\n",
       "      <td>Pretty Little Fears (feat. J. Cole)</td>\n",
       "      <td>77</td>\n",
       "    </tr>\n",
       "    <tr>\n",
       "      <th>58</th>\n",
       "      <td>6LACK</td>\n",
       "      <td>Seasons (feat. Khalid)</td>\n",
       "      <td>70</td>\n",
       "    </tr>\n",
       "    <tr>\n",
       "      <th>72</th>\n",
       "      <td>88rising</td>\n",
       "      <td>Head In The Clouds</td>\n",
       "      <td>45</td>\n",
       "    </tr>\n",
       "  </tbody>\n",
       "</table>\n",
       "</div>"
      ],
      "text/plain": [
       "                 artist                                track  count\n",
       "42  5 Seconds of Summer                           Youngblood     20\n",
       "50                6LACK                           Ex Calling     25\n",
       "57                6LACK  Pretty Little Fears (feat. J. Cole)     77\n",
       "58                6LACK               Seasons (feat. Khalid)     70\n",
       "72             88rising                   Head In The Clouds     45"
      ]
     },
     "execution_count": 5,
     "metadata": {},
     "output_type": "execute_result"
    }
   ],
   "source": [
    "# Find number of occurences of each song, and keep songs with 15 or more listnes\n",
    "df.groupby(['artist','track']).size().to_frame('count').reset_index()\n",
    "df = df.groupby(['artist','track']).size().to_frame('count').reset_index()\n",
    "df = df[df['count']>=15]\n",
    "# To display the top 5 rows\n",
    "df.head(5)"
   ]
  },
  {
   "cell_type": "code",
   "execution_count": 6,
   "metadata": {},
   "outputs": [
    {
     "data": {
      "text/html": [
       "<div>\n",
       "<style scoped>\n",
       "    .dataframe tbody tr th:only-of-type {\n",
       "        vertical-align: middle;\n",
       "    }\n",
       "\n",
       "    .dataframe tbody tr th {\n",
       "        vertical-align: top;\n",
       "    }\n",
       "\n",
       "    .dataframe thead th {\n",
       "        text-align: right;\n",
       "    }\n",
       "</style>\n",
       "<table border=\"1\" class=\"dataframe\">\n",
       "  <thead>\n",
       "    <tr style=\"text-align: right;\">\n",
       "      <th></th>\n",
       "      <th>genre</th>\n",
       "      <th>artist</th>\n",
       "      <th>track</th>\n",
       "      <th>track_id</th>\n",
       "      <th>popularity</th>\n",
       "      <th>acousticness</th>\n",
       "      <th>danceability</th>\n",
       "      <th>duration_ms</th>\n",
       "      <th>energy</th>\n",
       "      <th>instrumentalness</th>\n",
       "      <th>key</th>\n",
       "      <th>liveness</th>\n",
       "      <th>loudness</th>\n",
       "      <th>mode</th>\n",
       "      <th>speechiness</th>\n",
       "      <th>tempo</th>\n",
       "      <th>time_signature</th>\n",
       "      <th>valence</th>\n",
       "    </tr>\n",
       "  </thead>\n",
       "  <tbody>\n",
       "    <tr>\n",
       "      <th>0</th>\n",
       "      <td>Movie</td>\n",
       "      <td>Henri Salvador</td>\n",
       "      <td>C'est beau de faire un Show</td>\n",
       "      <td>0BRjO6ga9RKCKjfDqeFgWV</td>\n",
       "      <td>0</td>\n",
       "      <td>0.611</td>\n",
       "      <td>0.389</td>\n",
       "      <td>99373</td>\n",
       "      <td>0.910</td>\n",
       "      <td>0.000</td>\n",
       "      <td>C#</td>\n",
       "      <td>0.3460</td>\n",
       "      <td>-1.828</td>\n",
       "      <td>Major</td>\n",
       "      <td>0.0525</td>\n",
       "      <td>166.969</td>\n",
       "      <td>4/4</td>\n",
       "      <td>0.814</td>\n",
       "    </tr>\n",
       "    <tr>\n",
       "      <th>1</th>\n",
       "      <td>Movie</td>\n",
       "      <td>Martin &amp; les fées</td>\n",
       "      <td>Perdu d'avance (par Gad Elmaleh)</td>\n",
       "      <td>0BjC1NfoEOOusryehmNudP</td>\n",
       "      <td>1</td>\n",
       "      <td>0.246</td>\n",
       "      <td>0.590</td>\n",
       "      <td>137373</td>\n",
       "      <td>0.737</td>\n",
       "      <td>0.000</td>\n",
       "      <td>F#</td>\n",
       "      <td>0.1510</td>\n",
       "      <td>-5.559</td>\n",
       "      <td>Minor</td>\n",
       "      <td>0.0868</td>\n",
       "      <td>174.003</td>\n",
       "      <td>4/4</td>\n",
       "      <td>0.816</td>\n",
       "    </tr>\n",
       "    <tr>\n",
       "      <th>2</th>\n",
       "      <td>Movie</td>\n",
       "      <td>Joseph Williams</td>\n",
       "      <td>Don't Let Me Be Lonely Tonight</td>\n",
       "      <td>0CoSDzoNIKCRs124s9uTVy</td>\n",
       "      <td>3</td>\n",
       "      <td>0.952</td>\n",
       "      <td>0.663</td>\n",
       "      <td>170267</td>\n",
       "      <td>0.131</td>\n",
       "      <td>0.000</td>\n",
       "      <td>C</td>\n",
       "      <td>0.1030</td>\n",
       "      <td>-13.879</td>\n",
       "      <td>Minor</td>\n",
       "      <td>0.0362</td>\n",
       "      <td>99.488</td>\n",
       "      <td>5/4</td>\n",
       "      <td>0.368</td>\n",
       "    </tr>\n",
       "    <tr>\n",
       "      <th>3</th>\n",
       "      <td>Movie</td>\n",
       "      <td>Henri Salvador</td>\n",
       "      <td>Dis-moi Monsieur Gordon Cooper</td>\n",
       "      <td>0Gc6TVm52BwZD07Ki6tIvf</td>\n",
       "      <td>0</td>\n",
       "      <td>0.703</td>\n",
       "      <td>0.240</td>\n",
       "      <td>152427</td>\n",
       "      <td>0.326</td>\n",
       "      <td>0.000</td>\n",
       "      <td>C#</td>\n",
       "      <td>0.0985</td>\n",
       "      <td>-12.178</td>\n",
       "      <td>Major</td>\n",
       "      <td>0.0395</td>\n",
       "      <td>171.758</td>\n",
       "      <td>4/4</td>\n",
       "      <td>0.227</td>\n",
       "    </tr>\n",
       "    <tr>\n",
       "      <th>4</th>\n",
       "      <td>Movie</td>\n",
       "      <td>Fabien Nataf</td>\n",
       "      <td>Ouverture</td>\n",
       "      <td>0IuslXpMROHdEPvSl1fTQK</td>\n",
       "      <td>4</td>\n",
       "      <td>0.950</td>\n",
       "      <td>0.331</td>\n",
       "      <td>82625</td>\n",
       "      <td>0.225</td>\n",
       "      <td>0.123</td>\n",
       "      <td>F</td>\n",
       "      <td>0.2020</td>\n",
       "      <td>-21.150</td>\n",
       "      <td>Major</td>\n",
       "      <td>0.0456</td>\n",
       "      <td>140.576</td>\n",
       "      <td>4/4</td>\n",
       "      <td>0.390</td>\n",
       "    </tr>\n",
       "  </tbody>\n",
       "</table>\n",
       "</div>"
      ],
      "text/plain": [
       "   genre             artist                             track  \\\n",
       "0  Movie     Henri Salvador       C'est beau de faire un Show   \n",
       "1  Movie  Martin & les fées  Perdu d'avance (par Gad Elmaleh)   \n",
       "2  Movie    Joseph Williams    Don't Let Me Be Lonely Tonight   \n",
       "3  Movie     Henri Salvador    Dis-moi Monsieur Gordon Cooper   \n",
       "4  Movie       Fabien Nataf                         Ouverture   \n",
       "\n",
       "                 track_id  popularity  acousticness  danceability  \\\n",
       "0  0BRjO6ga9RKCKjfDqeFgWV           0         0.611         0.389   \n",
       "1  0BjC1NfoEOOusryehmNudP           1         0.246         0.590   \n",
       "2  0CoSDzoNIKCRs124s9uTVy           3         0.952         0.663   \n",
       "3  0Gc6TVm52BwZD07Ki6tIvf           0         0.703         0.240   \n",
       "4  0IuslXpMROHdEPvSl1fTQK           4         0.950         0.331   \n",
       "\n",
       "   duration_ms  energy  instrumentalness key  liveness  loudness   mode  \\\n",
       "0        99373   0.910             0.000  C#    0.3460    -1.828  Major   \n",
       "1       137373   0.737             0.000  F#    0.1510    -5.559  Minor   \n",
       "2       170267   0.131             0.000   C    0.1030   -13.879  Minor   \n",
       "3       152427   0.326             0.000  C#    0.0985   -12.178  Major   \n",
       "4        82625   0.225             0.123   F    0.2020   -21.150  Major   \n",
       "\n",
       "   speechiness    tempo time_signature  valence  \n",
       "0       0.0525  166.969            4/4    0.814  \n",
       "1       0.0868  174.003            4/4    0.816  \n",
       "2       0.0362   99.488            5/4    0.368  \n",
       "3       0.0395  171.758            4/4    0.227  \n",
       "4       0.0456  140.576            4/4    0.390  "
      ]
     },
     "execution_count": 6,
     "metadata": {},
     "output_type": "execute_result"
    }
   ],
   "source": [
    "# Read-in Song Features dataset\n",
    "features = pd.read_csv(\"SpotifyFeatures.csv\")\n",
    "# renaming columns\n",
    "features = features.rename(columns={\"artist_name\":\"artist\",\"track_name\":\"track\"})\n",
    "features.head(5)"
   ]
  },
  {
   "cell_type": "markdown",
   "metadata": {},
   "source": [
    "The 'favorite' column will be the variable that I will try to predict."
   ]
  },
  {
   "cell_type": "code",
   "execution_count": 7,
   "metadata": {},
   "outputs": [],
   "source": [
    "# Create 'favorite' column (favorite = 1, not favorite = 0)\n",
    "features['same_artists'] = features.artist.isin(df.artist) \n",
    "features['same_track'] = features.track.isin(df.track) \n",
    "features[\"favorite\"] = np.where((features[\"same_artists\"] == True) & (features[\"same_track\"] == True),1,0) # If both instances are True.\n",
    "features = features.drop([\"same_artists\",\"same_track\"],axis=1)"
   ]
  },
  {
   "cell_type": "code",
   "execution_count": 8,
   "metadata": {},
   "outputs": [],
   "source": [
    "# For future use\n",
    "future = features.copy(deep=True)"
   ]
  },
  {
   "cell_type": "code",
   "execution_count": 9,
   "metadata": {
    "scrolled": true
   },
   "outputs": [
    {
     "data": {
      "text/plain": [
       "array(['Movie', 'R&B', 'A Capella', 'Alternative', 'Country', 'Dance',\n",
       "       'Electronic', 'Anime', 'Folk', 'Blues', 'Opera', 'Hip-Hop',\n",
       "       \"Children's Music\", 'Children’s Music', 'Rap', 'Indie',\n",
       "       'Classical', 'Pop', 'Reggae', 'Reggaeton', 'Jazz', 'Rock', 'Ska',\n",
       "       'Comedy', 'Soul', 'Soundtrack', 'World'], dtype=object)"
      ]
     },
     "execution_count": 9,
     "metadata": {},
     "output_type": "execute_result"
    }
   ],
   "source": [
    "# Genre \n",
    "features.genre.unique()"
   ]
  },
  {
   "cell_type": "code",
   "execution_count": 10,
   "metadata": {},
   "outputs": [
    {
     "data": {
      "text/html": [
       "<div>\n",
       "<style scoped>\n",
       "    .dataframe tbody tr th:only-of-type {\n",
       "        vertical-align: middle;\n",
       "    }\n",
       "\n",
       "    .dataframe tbody tr th {\n",
       "        vertical-align: top;\n",
       "    }\n",
       "\n",
       "    .dataframe thead th {\n",
       "        text-align: right;\n",
       "    }\n",
       "</style>\n",
       "<table border=\"1\" class=\"dataframe\">\n",
       "  <thead>\n",
       "    <tr style=\"text-align: right;\">\n",
       "      <th></th>\n",
       "      <th>genre</th>\n",
       "      <th>artist</th>\n",
       "      <th>track</th>\n",
       "      <th>track_id</th>\n",
       "      <th>popularity</th>\n",
       "      <th>acousticness</th>\n",
       "      <th>danceability</th>\n",
       "      <th>duration_ms</th>\n",
       "      <th>energy</th>\n",
       "      <th>instrumentalness</th>\n",
       "      <th>key</th>\n",
       "      <th>liveness</th>\n",
       "      <th>loudness</th>\n",
       "      <th>mode</th>\n",
       "      <th>speechiness</th>\n",
       "      <th>tempo</th>\n",
       "      <th>time_signature</th>\n",
       "      <th>valence</th>\n",
       "      <th>favorite</th>\n",
       "    </tr>\n",
       "  </thead>\n",
       "  <tbody>\n",
       "    <tr>\n",
       "      <th>0</th>\n",
       "      <td>Movie</td>\n",
       "      <td>Henri Salvador</td>\n",
       "      <td>C'est beau de faire un Show</td>\n",
       "      <td>0BRjO6ga9RKCKjfDqeFgWV</td>\n",
       "      <td>0</td>\n",
       "      <td>0.61100</td>\n",
       "      <td>0.389</td>\n",
       "      <td>99373</td>\n",
       "      <td>0.910</td>\n",
       "      <td>0.000000</td>\n",
       "      <td>C#</td>\n",
       "      <td>0.3460</td>\n",
       "      <td>-1.828</td>\n",
       "      <td>Major</td>\n",
       "      <td>0.0525</td>\n",
       "      <td>166.969</td>\n",
       "      <td>4/4</td>\n",
       "      <td>0.814</td>\n",
       "      <td>0</td>\n",
       "    </tr>\n",
       "    <tr>\n",
       "      <th>1</th>\n",
       "      <td>Movie</td>\n",
       "      <td>Martin &amp; les fées</td>\n",
       "      <td>Perdu d'avance (par Gad Elmaleh)</td>\n",
       "      <td>0BjC1NfoEOOusryehmNudP</td>\n",
       "      <td>1</td>\n",
       "      <td>0.24600</td>\n",
       "      <td>0.590</td>\n",
       "      <td>137373</td>\n",
       "      <td>0.737</td>\n",
       "      <td>0.000000</td>\n",
       "      <td>F#</td>\n",
       "      <td>0.1510</td>\n",
       "      <td>-5.559</td>\n",
       "      <td>Minor</td>\n",
       "      <td>0.0868</td>\n",
       "      <td>174.003</td>\n",
       "      <td>4/4</td>\n",
       "      <td>0.816</td>\n",
       "      <td>0</td>\n",
       "    </tr>\n",
       "    <tr>\n",
       "      <th>2</th>\n",
       "      <td>Movie</td>\n",
       "      <td>Joseph Williams</td>\n",
       "      <td>Don't Let Me Be Lonely Tonight</td>\n",
       "      <td>0CoSDzoNIKCRs124s9uTVy</td>\n",
       "      <td>3</td>\n",
       "      <td>0.95200</td>\n",
       "      <td>0.663</td>\n",
       "      <td>170267</td>\n",
       "      <td>0.131</td>\n",
       "      <td>0.000000</td>\n",
       "      <td>C</td>\n",
       "      <td>0.1030</td>\n",
       "      <td>-13.879</td>\n",
       "      <td>Minor</td>\n",
       "      <td>0.0362</td>\n",
       "      <td>99.488</td>\n",
       "      <td>5/4</td>\n",
       "      <td>0.368</td>\n",
       "      <td>0</td>\n",
       "    </tr>\n",
       "    <tr>\n",
       "      <th>3</th>\n",
       "      <td>Movie</td>\n",
       "      <td>Henri Salvador</td>\n",
       "      <td>Dis-moi Monsieur Gordon Cooper</td>\n",
       "      <td>0Gc6TVm52BwZD07Ki6tIvf</td>\n",
       "      <td>0</td>\n",
       "      <td>0.70300</td>\n",
       "      <td>0.240</td>\n",
       "      <td>152427</td>\n",
       "      <td>0.326</td>\n",
       "      <td>0.000000</td>\n",
       "      <td>C#</td>\n",
       "      <td>0.0985</td>\n",
       "      <td>-12.178</td>\n",
       "      <td>Major</td>\n",
       "      <td>0.0395</td>\n",
       "      <td>171.758</td>\n",
       "      <td>4/4</td>\n",
       "      <td>0.227</td>\n",
       "      <td>0</td>\n",
       "    </tr>\n",
       "    <tr>\n",
       "      <th>4</th>\n",
       "      <td>Movie</td>\n",
       "      <td>Fabien Nataf</td>\n",
       "      <td>Ouverture</td>\n",
       "      <td>0IuslXpMROHdEPvSl1fTQK</td>\n",
       "      <td>4</td>\n",
       "      <td>0.95000</td>\n",
       "      <td>0.331</td>\n",
       "      <td>82625</td>\n",
       "      <td>0.225</td>\n",
       "      <td>0.123000</td>\n",
       "      <td>F</td>\n",
       "      <td>0.2020</td>\n",
       "      <td>-21.150</td>\n",
       "      <td>Major</td>\n",
       "      <td>0.0456</td>\n",
       "      <td>140.576</td>\n",
       "      <td>4/4</td>\n",
       "      <td>0.390</td>\n",
       "      <td>0</td>\n",
       "    </tr>\n",
       "    <tr>\n",
       "      <th>...</th>\n",
       "      <td>...</td>\n",
       "      <td>...</td>\n",
       "      <td>...</td>\n",
       "      <td>...</td>\n",
       "      <td>...</td>\n",
       "      <td>...</td>\n",
       "      <td>...</td>\n",
       "      <td>...</td>\n",
       "      <td>...</td>\n",
       "      <td>...</td>\n",
       "      <td>...</td>\n",
       "      <td>...</td>\n",
       "      <td>...</td>\n",
       "      <td>...</td>\n",
       "      <td>...</td>\n",
       "      <td>...</td>\n",
       "      <td>...</td>\n",
       "      <td>...</td>\n",
       "      <td>...</td>\n",
       "    </tr>\n",
       "    <tr>\n",
       "      <th>232720</th>\n",
       "      <td>Soul</td>\n",
       "      <td>Slave</td>\n",
       "      <td>Son Of Slide</td>\n",
       "      <td>2XGLdVl7lGeq8ksM6Al7jT</td>\n",
       "      <td>39</td>\n",
       "      <td>0.00384</td>\n",
       "      <td>0.687</td>\n",
       "      <td>326240</td>\n",
       "      <td>0.714</td>\n",
       "      <td>0.544000</td>\n",
       "      <td>D</td>\n",
       "      <td>0.0845</td>\n",
       "      <td>-10.626</td>\n",
       "      <td>Major</td>\n",
       "      <td>0.0316</td>\n",
       "      <td>115.542</td>\n",
       "      <td>4/4</td>\n",
       "      <td>0.962</td>\n",
       "      <td>0</td>\n",
       "    </tr>\n",
       "    <tr>\n",
       "      <th>232721</th>\n",
       "      <td>Soul</td>\n",
       "      <td>Jr Thomas &amp; The Volcanos</td>\n",
       "      <td>Burning Fire</td>\n",
       "      <td>1qWZdkBl4UVPj9lK6HuuFM</td>\n",
       "      <td>38</td>\n",
       "      <td>0.03290</td>\n",
       "      <td>0.785</td>\n",
       "      <td>282447</td>\n",
       "      <td>0.683</td>\n",
       "      <td>0.000880</td>\n",
       "      <td>E</td>\n",
       "      <td>0.2370</td>\n",
       "      <td>-6.944</td>\n",
       "      <td>Minor</td>\n",
       "      <td>0.0337</td>\n",
       "      <td>113.830</td>\n",
       "      <td>4/4</td>\n",
       "      <td>0.969</td>\n",
       "      <td>0</td>\n",
       "    </tr>\n",
       "    <tr>\n",
       "      <th>232722</th>\n",
       "      <td>Soul</td>\n",
       "      <td>Muddy Waters</td>\n",
       "      <td>(I'm Your) Hoochie Coochie Man</td>\n",
       "      <td>2ziWXUmQLrXTiYjCg2fZ2t</td>\n",
       "      <td>47</td>\n",
       "      <td>0.90100</td>\n",
       "      <td>0.517</td>\n",
       "      <td>166960</td>\n",
       "      <td>0.419</td>\n",
       "      <td>0.000000</td>\n",
       "      <td>D</td>\n",
       "      <td>0.0945</td>\n",
       "      <td>-8.282</td>\n",
       "      <td>Major</td>\n",
       "      <td>0.1480</td>\n",
       "      <td>84.135</td>\n",
       "      <td>4/4</td>\n",
       "      <td>0.813</td>\n",
       "      <td>0</td>\n",
       "    </tr>\n",
       "    <tr>\n",
       "      <th>232723</th>\n",
       "      <td>Soul</td>\n",
       "      <td>R.LUM.R</td>\n",
       "      <td>With My Words</td>\n",
       "      <td>6EFsue2YbIG4Qkq8Zr9Rir</td>\n",
       "      <td>44</td>\n",
       "      <td>0.26200</td>\n",
       "      <td>0.745</td>\n",
       "      <td>222442</td>\n",
       "      <td>0.704</td>\n",
       "      <td>0.000000</td>\n",
       "      <td>A</td>\n",
       "      <td>0.3330</td>\n",
       "      <td>-7.137</td>\n",
       "      <td>Major</td>\n",
       "      <td>0.1460</td>\n",
       "      <td>100.031</td>\n",
       "      <td>4/4</td>\n",
       "      <td>0.489</td>\n",
       "      <td>0</td>\n",
       "    </tr>\n",
       "    <tr>\n",
       "      <th>232724</th>\n",
       "      <td>Soul</td>\n",
       "      <td>Mint Condition</td>\n",
       "      <td>You Don't Have To Hurt No More</td>\n",
       "      <td>34XO9RwPMKjbvRry54QzWn</td>\n",
       "      <td>35</td>\n",
       "      <td>0.09730</td>\n",
       "      <td>0.758</td>\n",
       "      <td>323027</td>\n",
       "      <td>0.470</td>\n",
       "      <td>0.000049</td>\n",
       "      <td>G#</td>\n",
       "      <td>0.0836</td>\n",
       "      <td>-6.708</td>\n",
       "      <td>Minor</td>\n",
       "      <td>0.0287</td>\n",
       "      <td>113.897</td>\n",
       "      <td>4/4</td>\n",
       "      <td>0.479</td>\n",
       "      <td>0</td>\n",
       "    </tr>\n",
       "  </tbody>\n",
       "</table>\n",
       "<p>232725 rows × 19 columns</p>\n",
       "</div>"
      ],
      "text/plain": [
       "        genre                    artist                             track  \\\n",
       "0       Movie            Henri Salvador       C'est beau de faire un Show   \n",
       "1       Movie         Martin & les fées  Perdu d'avance (par Gad Elmaleh)   \n",
       "2       Movie           Joseph Williams    Don't Let Me Be Lonely Tonight   \n",
       "3       Movie            Henri Salvador    Dis-moi Monsieur Gordon Cooper   \n",
       "4       Movie              Fabien Nataf                         Ouverture   \n",
       "...       ...                       ...                               ...   \n",
       "232720   Soul                     Slave                      Son Of Slide   \n",
       "232721   Soul  Jr Thomas & The Volcanos                      Burning Fire   \n",
       "232722   Soul              Muddy Waters    (I'm Your) Hoochie Coochie Man   \n",
       "232723   Soul                   R.LUM.R                     With My Words   \n",
       "232724   Soul            Mint Condition    You Don't Have To Hurt No More   \n",
       "\n",
       "                      track_id  popularity  acousticness  danceability  \\\n",
       "0       0BRjO6ga9RKCKjfDqeFgWV           0       0.61100         0.389   \n",
       "1       0BjC1NfoEOOusryehmNudP           1       0.24600         0.590   \n",
       "2       0CoSDzoNIKCRs124s9uTVy           3       0.95200         0.663   \n",
       "3       0Gc6TVm52BwZD07Ki6tIvf           0       0.70300         0.240   \n",
       "4       0IuslXpMROHdEPvSl1fTQK           4       0.95000         0.331   \n",
       "...                        ...         ...           ...           ...   \n",
       "232720  2XGLdVl7lGeq8ksM6Al7jT          39       0.00384         0.687   \n",
       "232721  1qWZdkBl4UVPj9lK6HuuFM          38       0.03290         0.785   \n",
       "232722  2ziWXUmQLrXTiYjCg2fZ2t          47       0.90100         0.517   \n",
       "232723  6EFsue2YbIG4Qkq8Zr9Rir          44       0.26200         0.745   \n",
       "232724  34XO9RwPMKjbvRry54QzWn          35       0.09730         0.758   \n",
       "\n",
       "        duration_ms  energy  instrumentalness key  liveness  loudness   mode  \\\n",
       "0             99373   0.910          0.000000  C#    0.3460    -1.828  Major   \n",
       "1            137373   0.737          0.000000  F#    0.1510    -5.559  Minor   \n",
       "2            170267   0.131          0.000000   C    0.1030   -13.879  Minor   \n",
       "3            152427   0.326          0.000000  C#    0.0985   -12.178  Major   \n",
       "4             82625   0.225          0.123000   F    0.2020   -21.150  Major   \n",
       "...             ...     ...               ...  ..       ...       ...    ...   \n",
       "232720       326240   0.714          0.544000   D    0.0845   -10.626  Major   \n",
       "232721       282447   0.683          0.000880   E    0.2370    -6.944  Minor   \n",
       "232722       166960   0.419          0.000000   D    0.0945    -8.282  Major   \n",
       "232723       222442   0.704          0.000000   A    0.3330    -7.137  Major   \n",
       "232724       323027   0.470          0.000049  G#    0.0836    -6.708  Minor   \n",
       "\n",
       "        speechiness    tempo time_signature  valence  favorite  \n",
       "0            0.0525  166.969            4/4    0.814         0  \n",
       "1            0.0868  174.003            4/4    0.816         0  \n",
       "2            0.0362   99.488            5/4    0.368         0  \n",
       "3            0.0395  171.758            4/4    0.227         0  \n",
       "4            0.0456  140.576            4/4    0.390         0  \n",
       "...             ...      ...            ...      ...       ...  \n",
       "232720       0.0316  115.542            4/4    0.962         0  \n",
       "232721       0.0337  113.830            4/4    0.969         0  \n",
       "232722       0.1480   84.135            4/4    0.813         0  \n",
       "232723       0.1460  100.031            4/4    0.489         0  \n",
       "232724       0.0287  113.897            4/4    0.479         0  \n",
       "\n",
       "[232725 rows x 19 columns]"
      ]
     },
     "execution_count": 10,
     "metadata": {},
     "output_type": "execute_result"
    }
   ],
   "source": [
    "features"
   ]
  },
  {
   "cell_type": "markdown",
   "metadata": {},
   "source": [
    "Comedy stands out to me the most as I want to know if 'songs' in this genre are actually songs. "
   ]
  },
  {
   "cell_type": "code",
   "execution_count": 11,
   "metadata": {},
   "outputs": [
    {
     "data": {
      "text/html": [
       "<div>\n",
       "<style scoped>\n",
       "    .dataframe tbody tr th:only-of-type {\n",
       "        vertical-align: middle;\n",
       "    }\n",
       "\n",
       "    .dataframe tbody tr th {\n",
       "        vertical-align: top;\n",
       "    }\n",
       "\n",
       "    .dataframe thead th {\n",
       "        text-align: right;\n",
       "    }\n",
       "</style>\n",
       "<table border=\"1\" class=\"dataframe\">\n",
       "  <thead>\n",
       "    <tr style=\"text-align: right;\">\n",
       "      <th></th>\n",
       "      <th>popularity</th>\n",
       "      <th>acousticness</th>\n",
       "      <th>danceability</th>\n",
       "      <th>duration_ms</th>\n",
       "      <th>energy</th>\n",
       "      <th>instrumentalness</th>\n",
       "      <th>liveness</th>\n",
       "      <th>loudness</th>\n",
       "      <th>speechiness</th>\n",
       "      <th>tempo</th>\n",
       "      <th>valence</th>\n",
       "      <th>favorite</th>\n",
       "    </tr>\n",
       "  </thead>\n",
       "  <tbody>\n",
       "    <tr>\n",
       "      <th>count</th>\n",
       "      <td>9681.000000</td>\n",
       "      <td>9681.000000</td>\n",
       "      <td>9681.000000</td>\n",
       "      <td>9.681000e+03</td>\n",
       "      <td>9681.000000</td>\n",
       "      <td>9681.000000</td>\n",
       "      <td>9681.000000</td>\n",
       "      <td>9681.000000</td>\n",
       "      <td>9681.000000</td>\n",
       "      <td>9681.000000</td>\n",
       "      <td>9681.000000</td>\n",
       "      <td>9681.0</td>\n",
       "    </tr>\n",
       "    <tr>\n",
       "      <th>mean</th>\n",
       "      <td>21.342630</td>\n",
       "      <td>0.793098</td>\n",
       "      <td>0.559038</td>\n",
       "      <td>2.353052e+05</td>\n",
       "      <td>0.676094</td>\n",
       "      <td>0.000574</td>\n",
       "      <td>0.724775</td>\n",
       "      <td>-11.689321</td>\n",
       "      <td>0.853532</td>\n",
       "      <td>98.235488</td>\n",
       "      <td>0.412764</td>\n",
       "      <td>0.0</td>\n",
       "    </tr>\n",
       "    <tr>\n",
       "      <th>std</th>\n",
       "      <td>8.428764</td>\n",
       "      <td>0.130313</td>\n",
       "      <td>0.089625</td>\n",
       "      <td>2.502539e+05</td>\n",
       "      <td>0.211705</td>\n",
       "      <td>0.009987</td>\n",
       "      <td>0.223437</td>\n",
       "      <td>4.777983</td>\n",
       "      <td>0.205918</td>\n",
       "      <td>27.839986</td>\n",
       "      <td>0.207258</td>\n",
       "      <td>0.0</td>\n",
       "    </tr>\n",
       "    <tr>\n",
       "      <th>min</th>\n",
       "      <td>0.000000</td>\n",
       "      <td>0.000363</td>\n",
       "      <td>0.239000</td>\n",
       "      <td>3.004000e+04</td>\n",
       "      <td>0.001410</td>\n",
       "      <td>0.000000</td>\n",
       "      <td>0.025800</td>\n",
       "      <td>-31.047000</td>\n",
       "      <td>0.023000</td>\n",
       "      <td>32.451000</td>\n",
       "      <td>0.023700</td>\n",
       "      <td>0.0</td>\n",
       "    </tr>\n",
       "    <tr>\n",
       "      <th>25%</th>\n",
       "      <td>15.000000</td>\n",
       "      <td>0.753000</td>\n",
       "      <td>0.499000</td>\n",
       "      <td>1.218800e+05</td>\n",
       "      <td>0.522000</td>\n",
       "      <td>0.000000</td>\n",
       "      <td>0.662000</td>\n",
       "      <td>-14.649000</td>\n",
       "      <td>0.888000</td>\n",
       "      <td>79.720000</td>\n",
       "      <td>0.252000</td>\n",
       "      <td>0.0</td>\n",
       "    </tr>\n",
       "    <tr>\n",
       "      <th>50%</th>\n",
       "      <td>20.000000</td>\n",
       "      <td>0.819000</td>\n",
       "      <td>0.561000</td>\n",
       "      <td>1.890570e+05</td>\n",
       "      <td>0.704000</td>\n",
       "      <td>0.000000</td>\n",
       "      <td>0.767000</td>\n",
       "      <td>-11.209000</td>\n",
       "      <td>0.928000</td>\n",
       "      <td>90.124000</td>\n",
       "      <td>0.410000</td>\n",
       "      <td>0.0</td>\n",
       "    </tr>\n",
       "    <tr>\n",
       "      <th>75%</th>\n",
       "      <td>26.000000</td>\n",
       "      <td>0.872000</td>\n",
       "      <td>0.620000</td>\n",
       "      <td>2.812930e+05</td>\n",
       "      <td>0.859000</td>\n",
       "      <td>0.000000</td>\n",
       "      <td>0.898000</td>\n",
       "      <td>-8.088000</td>\n",
       "      <td>0.944000</td>\n",
       "      <td>115.128000</td>\n",
       "      <td>0.561000</td>\n",
       "      <td>0.0</td>\n",
       "    </tr>\n",
       "    <tr>\n",
       "      <th>max</th>\n",
       "      <td>61.000000</td>\n",
       "      <td>0.995000</td>\n",
       "      <td>0.898000</td>\n",
       "      <td>5.552917e+06</td>\n",
       "      <td>0.998000</td>\n",
       "      <td>0.352000</td>\n",
       "      <td>0.996000</td>\n",
       "      <td>-0.255000</td>\n",
       "      <td>0.967000</td>\n",
       "      <td>207.157000</td>\n",
       "      <td>0.980000</td>\n",
       "      <td>0.0</td>\n",
       "    </tr>\n",
       "  </tbody>\n",
       "</table>\n",
       "</div>"
      ],
      "text/plain": [
       "        popularity  acousticness  danceability   duration_ms       energy  \\\n",
       "count  9681.000000   9681.000000   9681.000000  9.681000e+03  9681.000000   \n",
       "mean     21.342630      0.793098      0.559038  2.353052e+05     0.676094   \n",
       "std       8.428764      0.130313      0.089625  2.502539e+05     0.211705   \n",
       "min       0.000000      0.000363      0.239000  3.004000e+04     0.001410   \n",
       "25%      15.000000      0.753000      0.499000  1.218800e+05     0.522000   \n",
       "50%      20.000000      0.819000      0.561000  1.890570e+05     0.704000   \n",
       "75%      26.000000      0.872000      0.620000  2.812930e+05     0.859000   \n",
       "max      61.000000      0.995000      0.898000  5.552917e+06     0.998000   \n",
       "\n",
       "       instrumentalness     liveness     loudness  speechiness        tempo  \\\n",
       "count       9681.000000  9681.000000  9681.000000  9681.000000  9681.000000   \n",
       "mean           0.000574     0.724775   -11.689321     0.853532    98.235488   \n",
       "std            0.009987     0.223437     4.777983     0.205918    27.839986   \n",
       "min            0.000000     0.025800   -31.047000     0.023000    32.451000   \n",
       "25%            0.000000     0.662000   -14.649000     0.888000    79.720000   \n",
       "50%            0.000000     0.767000   -11.209000     0.928000    90.124000   \n",
       "75%            0.000000     0.898000    -8.088000     0.944000   115.128000   \n",
       "max            0.352000     0.996000    -0.255000     0.967000   207.157000   \n",
       "\n",
       "           valence  favorite  \n",
       "count  9681.000000    9681.0  \n",
       "mean      0.412764       0.0  \n",
       "std       0.207258       0.0  \n",
       "min       0.023700       0.0  \n",
       "25%       0.252000       0.0  \n",
       "50%       0.410000       0.0  \n",
       "75%       0.561000       0.0  \n",
       "max       0.980000       0.0  "
      ]
     },
     "execution_count": 11,
     "metadata": {},
     "output_type": "execute_result"
    }
   ],
   "source": [
    "features[features.genre == 'Comedy'].describe()"
   ]
  },
  {
   "cell_type": "markdown",
   "metadata": {},
   "source": [
    "From this chart, I can look at the values in instrumentalness, liveness, and speechiness to deduce that there are almost no instrumentals, the recording is highly probable to be in front of a live audience, and that it contains a lot words. As a result, I can conclude that the 'songs' in the comedy genre are snippets from comedy shows put on Spotify. Therefore, I will be removing all 'songs' from this genre because they do not accurately represent music and will distort the model with its features. "
   ]
  },
  {
   "cell_type": "code",
   "execution_count": 12,
   "metadata": {},
   "outputs": [],
   "source": [
    "# Removing 'songs' with these genres\n",
    "features = features[features.genre!='Comedy']\n",
    "# Track_id\n",
    "features = features.drop(columns='track_id')"
   ]
  },
  {
   "cell_type": "markdown",
   "metadata": {},
   "source": [
    "Since all track_ids are unique and track_id merely represents both artist and song name, I will not able to use this feature to predict a favorite song as it is repetitious. We can drop this feature."
   ]
  },
  {
   "cell_type": "code",
   "execution_count": 13,
   "metadata": {},
   "outputs": [],
   "source": [
    "features = features.drop(columns='track')"
   ]
  },
  {
   "cell_type": "markdown",
   "metadata": {},
   "source": [
    "As more than half of the data in the 'track' columns are unique, I believe that there will be a very low correlation between 'track' and 'favorite'. I will also drop this column."
   ]
  },
  {
   "cell_type": "code",
   "execution_count": 14,
   "metadata": {},
   "outputs": [
    {
     "data": {
      "text/html": [
       "<div>\n",
       "<style scoped>\n",
       "    .dataframe tbody tr th:only-of-type {\n",
       "        vertical-align: middle;\n",
       "    }\n",
       "\n",
       "    .dataframe tbody tr th {\n",
       "        vertical-align: top;\n",
       "    }\n",
       "\n",
       "    .dataframe thead th {\n",
       "        text-align: right;\n",
       "    }\n",
       "</style>\n",
       "<table border=\"1\" class=\"dataframe\">\n",
       "  <thead>\n",
       "    <tr style=\"text-align: right;\">\n",
       "      <th></th>\n",
       "      <th>genre</th>\n",
       "      <th>artist</th>\n",
       "      <th>popularity</th>\n",
       "      <th>acousticness</th>\n",
       "      <th>danceability</th>\n",
       "      <th>duration_ms</th>\n",
       "      <th>energy</th>\n",
       "      <th>instrumentalness</th>\n",
       "      <th>key</th>\n",
       "      <th>liveness</th>\n",
       "      <th>loudness</th>\n",
       "      <th>mode</th>\n",
       "      <th>speechiness</th>\n",
       "      <th>tempo</th>\n",
       "      <th>time_signature</th>\n",
       "      <th>valence</th>\n",
       "      <th>favorite</th>\n",
       "    </tr>\n",
       "  </thead>\n",
       "  <tbody>\n",
       "    <tr>\n",
       "      <th>0</th>\n",
       "      <td>Movie</td>\n",
       "      <td>Henri Salvador</td>\n",
       "      <td>0</td>\n",
       "      <td>0.611</td>\n",
       "      <td>0.389</td>\n",
       "      <td>99373</td>\n",
       "      <td>0.91</td>\n",
       "      <td>0.0</td>\n",
       "      <td>C#</td>\n",
       "      <td>0.346</td>\n",
       "      <td>-1.828</td>\n",
       "      <td>Major</td>\n",
       "      <td>0.0525</td>\n",
       "      <td>166.969</td>\n",
       "      <td>4/4</td>\n",
       "      <td>0.814</td>\n",
       "      <td>0</td>\n",
       "    </tr>\n",
       "  </tbody>\n",
       "</table>\n",
       "</div>"
      ],
      "text/plain": [
       "   genre          artist  popularity  acousticness  danceability  duration_ms  \\\n",
       "0  Movie  Henri Salvador           0         0.611         0.389        99373   \n",
       "\n",
       "   energy  instrumentalness key  liveness  loudness   mode  speechiness  \\\n",
       "0    0.91               0.0  C#     0.346    -1.828  Major       0.0525   \n",
       "\n",
       "     tempo time_signature  valence  favorite  \n",
       "0  166.969            4/4    0.814         0  "
      ]
     },
     "execution_count": 14,
     "metadata": {},
     "output_type": "execute_result"
    }
   ],
   "source": [
    "features.head(1)"
   ]
  },
  {
   "cell_type": "markdown",
   "metadata": {},
   "source": [
    "### Balancing Classes with Oversampling (SMOTE) and Feature Selection\n",
    "Because my classes are heavily imbalanced, if I leave our data alone, my model will predict most songs as the majority class (in our case, 0). Therefore, I will use SMOTE to oversample from the minority class to balance them out.\n",
    "\n",
    "**To prevent data leakage, it is important that you split your data first then apply SMOTE. However, because I want to show a correlation matrix, I am going to apply it on the entire dataset. When I train my model, I will split first.**\n",
    "\n",
    "**Side note**: While I could undersample from our majority class, I will also lose a lot of data as the majority class overwhelms the minority. "
   ]
  },
  {
   "cell_type": "code",
   "execution_count": 15,
   "metadata": {},
   "outputs": [
    {
     "data": {
      "text/plain": [
       "0    219815\n",
       "1      3229\n",
       "Name: favorite, dtype: int64"
      ]
     },
     "execution_count": 15,
     "metadata": {},
     "output_type": "execute_result"
    }
   ],
   "source": [
    "# How the classes are imbalanced\n",
    "features.favorite.value_counts()"
   ]
  },
  {
   "cell_type": "code",
   "execution_count": 16,
   "metadata": {},
   "outputs": [],
   "source": [
    "X = features.drop(columns=['favorite','genre','artist','key','mode','time_signature'])\n",
    "y = features.favorite\n",
    "oversample = SMOTE()\n",
    "X, y = oversample.fit_resample(X, y)\n",
    "X['favorite'] = y"
   ]
  },
  {
   "cell_type": "code",
   "execution_count": 17,
   "metadata": {},
   "outputs": [
    {
     "data": {
      "image/png": "[encoded data removed]",
      "text/plain": [
       "<Figure size 1440x720 with 2 Axes>"
      ]
     },
     "metadata": {
      "needs_background": "light"
     },
     "output_type": "display_data"
    }
   ],
   "source": [
    "# Correlation Matrix of quantitative features\n",
    "plt.figure(figsize=(20,10))\n",
    "c = X.corr()\n",
    "corr = sns.heatmap(c,cmap=\"BrBG\",annot=True)"
   ]
  },
  {
   "cell_type": "markdown",
   "metadata": {},
   "source": [
    "Of all the quantitative features, **popularity, danceability, and instrumentalness** have the highest associations, with popularity and danceability being positive and instrumentalness being negative. As a result, I will use these three features in my model."
   ]
  },
  {
   "cell_type": "markdown",
   "metadata": {},
   "source": [
    "### Model Selection with Cross-validation and Hyperparameter Optimization\n",
    "Now, I want to be able to select which classifier algorithm I want to use for our problem. In order to do this, I will compare three algorithms: Random Forest Classifier, Decision Tree Classifier, and Logistic Regression. "
   ]
  },
  {
   "cell_type": "code",
   "execution_count": 18,
   "metadata": {},
   "outputs": [],
   "source": [
    "# Importing required libraries\n",
    "import sklearn\n",
    "from sklearn.pipeline import Pipeline\n",
    "from sklearn.model_selection import cross_val_score\n",
    "from sklearn.model_selection import train_test_split\n",
    "from sklearn.model_selection import GridSearchCV\n",
    "from sklearn import metrics \n",
    "from sklearn.metrics import f1_score\n",
    "# Models\n",
    "from sklearn.ensemble import RandomForestClassifier\n",
    "from sklearn.linear_model import LogisticRegression \n",
    "from sklearn.tree import DecisionTreeClassifier"
   ]
  },
  {
   "cell_type": "code",
   "execution_count": 19,
   "metadata": {},
   "outputs": [],
   "source": [
    "# Train / Split Data\n",
    "X_train, X_test, y_train, y_test = train_test_split(features.drop(columns='favorite'), features.favorite,test_size = .20)"
   ]
  },
  {
   "cell_type": "code",
   "execution_count": 20,
   "metadata": {},
   "outputs": [],
   "source": [
    "X_train = X_train.drop(columns=['genre','artist','key','mode','time_signature'])"
   ]
  },
  {
   "cell_type": "code",
   "execution_count": 21,
   "metadata": {},
   "outputs": [],
   "source": [
    "# Applying SMOTE \n",
    "oversample = SMOTE()\n",
    "X_train, y_train = oversample.fit_resample(X_train, y_train)"
   ]
  },
  {
   "cell_type": "markdown",
   "metadata": {},
   "source": [
    "For each model, I will use cross-validation to see how well each model generalizes and obtain a F1 score."
   ]
  },
  {
   "cell_type": "code",
   "execution_count": 28,
   "metadata": {},
   "outputs": [
    {
     "name": "stdout",
     "output_type": "stream",
     "text": [
      "CPU times: user 26.4 s, sys: 803 ms, total: 27.2 s\n",
      "Wall time: 14 s\n"
     ]
    },
    {
     "data": {
      "text/plain": [
       "0.7904689733827925"
      ]
     },
     "execution_count": 28,
     "metadata": {},
     "output_type": "execute_result"
    }
   ],
   "source": [
    "%%time\n",
    "# Logistic Regression\n",
    "lr = LogisticRegression()\n",
    "lr_scores = cross_val_score(lr, X_train, y_train, cv=10, scoring=\"f1\")\n",
    "np.mean(lr_scores)"
   ]
  },
  {
   "cell_type": "code",
   "execution_count": 29,
   "metadata": {},
   "outputs": [
    {
     "data": {
      "text/plain": [
       "{'max_depth': 30}"
      ]
     },
     "execution_count": 29,
     "metadata": {},
     "output_type": "execute_result"
    }
   ],
   "source": [
    "# Hyperparameter optimization for Decision Tree Classifier\n",
    "parameters = {\n",
    "    'max_depth':[15,20,30],\n",
    "}\n",
    "dtc = Pipeline([('CV',GridSearchCV(DecisionTreeClassifier(), parameters, cv = 5))])\n",
    "dtc.fit(X_train, y_train)\n",
    "dtc.named_steps['CV'].best_params_"
   ]
  },
  {
   "cell_type": "code",
   "execution_count": 31,
   "metadata": {},
   "outputs": [
    {
     "name": "stdout",
     "output_type": "stream",
     "text": [
      "CPU times: user 59.4 s, sys: 495 ms, total: 59.9 s\n",
      "Wall time: 1min\n"
     ]
    },
    {
     "data": {
      "text/plain": [
       "0.9785300408107732"
      ]
     },
     "execution_count": 31,
     "metadata": {},
     "output_type": "execute_result"
    }
   ],
   "source": [
    "%%time\n",
    "# Decision Tree\n",
    "dt = DecisionTreeClassifier(max_depth=30)\n",
    "dt_scores = cross_val_score(dt, X_train, y_train, cv=10, scoring=\"f1\")\n",
    "np.mean(dt_scores)"
   ]
  },
  {
   "cell_type": "code",
   "execution_count": 22,
   "metadata": {},
   "outputs": [
    {
     "data": {
      "text/plain": [
       "{'max_depth': 20, 'n_estimators': 30}"
      ]
     },
     "execution_count": 22,
     "metadata": {},
     "output_type": "execute_result"
    }
   ],
   "source": [
    "# Hyperparameter optimization of RandomForestClassifier\n",
    "parameters = {\n",
    "    'max_depth':[6,12,15,20],\n",
    "    'n_estimators':[20,30]\n",
    "}\n",
    "clf = Pipeline([('CV',GridSearchCV(RandomForestClassifier(), parameters, cv = 5))])\n",
    "clf.fit(X_train, y_train)\n",
    "clf.named_steps['CV'].best_params_"
   ]
  },
  {
   "cell_type": "code",
   "execution_count": 23,
   "metadata": {},
   "outputs": [
    {
     "name": "stdout",
     "output_type": "stream",
     "text": [
      "CPU times: user 4min 53s, sys: 6.08 s, total: 4min 59s\n",
      "Wall time: 5min 6s\n"
     ]
    },
    {
     "data": {
      "text/plain": [
       "0.9917851082368905"
      ]
     },
     "execution_count": 23,
     "metadata": {},
     "output_type": "execute_result"
    }
   ],
   "source": [
    "%%time\n",
    "# Cross-validation for RandomForestClassifier\n",
    "rf = Pipeline([('rf', RandomForestClassifier(n_estimators = 20, max_depth = 30))])\n",
    "rf_scores = cross_val_score(rf, X_train, y_train, cv=10, scoring=\"f1\")\n",
    "np.mean(rf_scores)"
   ]
  },
  {
   "cell_type": "markdown",
   "metadata": {},
   "source": [
    "### Predicting Songs and Saving Dataset for Personal Use"
   ]
  },
  {
   "cell_type": "code",
   "execution_count": 33,
   "metadata": {},
   "outputs": [
    {
     "data": {
      "text/plain": [
       "DecisionTreeClassifier(max_depth=30)"
      ]
     },
     "execution_count": 33,
     "metadata": {},
     "output_type": "execute_result"
    }
   ],
   "source": [
    "dt.fit(X_train,y_train)"
   ]
  },
  {
   "cell_type": "code",
   "execution_count": 34,
   "metadata": {},
   "outputs": [],
   "source": [
    "y_pred = dt.predict(X_test.drop(columns=['genre','artist','key','mode','time_signature']))"
   ]
  },
  {
   "cell_type": "code",
   "execution_count": 35,
   "metadata": {},
   "outputs": [],
   "source": [
    "prediction = dt.predict(future.drop(columns=['track','track_id','favorite','genre','artist','key','time_signature','mode']))"
   ]
  },
  {
   "cell_type": "code",
   "execution_count": 36,
   "metadata": {},
   "outputs": [],
   "source": [
    "future['prediction'] = prediction"
   ]
  },
  {
   "cell_type": "code",
   "execution_count": 37,
   "metadata": {},
   "outputs": [],
   "source": [
    "# Gets only songs that were not favorites but are predicted to be\n",
    "future = future[(future['favorite']==0) & (future['prediction'] == 1)]"
   ]
  },
  {
   "cell_type": "code",
   "execution_count": 38,
   "metadata": {},
   "outputs": [],
   "source": [
    "future = future.drop(columns=['track_id','energy','duration_ms','acousticness','key','liveness','loudness','mode','speechiness','tempo','time_signature','valence'])"
   ]
  },
  {
   "cell_type": "code",
   "execution_count": 39,
   "metadata": {},
   "outputs": [
    {
     "data": {
      "text/html": [
       "<div>\n",
       "<style scoped>\n",
       "    .dataframe tbody tr th:only-of-type {\n",
       "        vertical-align: middle;\n",
       "    }\n",
       "\n",
       "    .dataframe tbody tr th {\n",
       "        vertical-align: top;\n",
       "    }\n",
       "\n",
       "    .dataframe thead th {\n",
       "        text-align: right;\n",
       "    }\n",
       "</style>\n",
       "<table border=\"1\" class=\"dataframe\">\n",
       "  <thead>\n",
       "    <tr style=\"text-align: right;\">\n",
       "      <th></th>\n",
       "      <th>genre</th>\n",
       "      <th>artist</th>\n",
       "      <th>track</th>\n",
       "      <th>popularity</th>\n",
       "      <th>danceability</th>\n",
       "      <th>instrumentalness</th>\n",
       "      <th>favorite</th>\n",
       "      <th>prediction</th>\n",
       "    </tr>\n",
       "  </thead>\n",
       "  <tbody>\n",
       "    <tr>\n",
       "      <th>138</th>\n",
       "      <td>R&amp;B</td>\n",
       "      <td>Surfaces</td>\n",
       "      <td>Heaven Falls / Fall on Me</td>\n",
       "      <td>61</td>\n",
       "      <td>0.563</td>\n",
       "      <td>0.002430</td>\n",
       "      <td>0</td>\n",
       "      <td>1</td>\n",
       "    </tr>\n",
       "    <tr>\n",
       "      <th>139</th>\n",
       "      <td>R&amp;B</td>\n",
       "      <td>Olivia O'Brien</td>\n",
       "      <td>Love Myself</td>\n",
       "      <td>68</td>\n",
       "      <td>0.653</td>\n",
       "      <td>0.000000</td>\n",
       "      <td>0</td>\n",
       "      <td>1</td>\n",
       "    </tr>\n",
       "    <tr>\n",
       "      <th>146</th>\n",
       "      <td>R&amp;B</td>\n",
       "      <td>Beyoncé</td>\n",
       "      <td>Flawless Remix</td>\n",
       "      <td>69</td>\n",
       "      <td>0.639</td>\n",
       "      <td>0.000008</td>\n",
       "      <td>0</td>\n",
       "      <td>1</td>\n",
       "    </tr>\n",
       "    <tr>\n",
       "      <th>149</th>\n",
       "      <td>R&amp;B</td>\n",
       "      <td>Big Sean</td>\n",
       "      <td>I Know</td>\n",
       "      <td>66</td>\n",
       "      <td>0.741</td>\n",
       "      <td>0.000000</td>\n",
       "      <td>0</td>\n",
       "      <td>1</td>\n",
       "    </tr>\n",
       "    <tr>\n",
       "      <th>152</th>\n",
       "      <td>R&amp;B</td>\n",
       "      <td>Jessie Reyez</td>\n",
       "      <td>Body Count (feat. Normani &amp; Kehlani) - Remix</td>\n",
       "      <td>62</td>\n",
       "      <td>0.703</td>\n",
       "      <td>0.000000</td>\n",
       "      <td>0</td>\n",
       "      <td>1</td>\n",
       "    </tr>\n",
       "    <tr>\n",
       "      <th>...</th>\n",
       "      <td>...</td>\n",
       "      <td>...</td>\n",
       "      <td>...</td>\n",
       "      <td>...</td>\n",
       "      <td>...</td>\n",
       "      <td>...</td>\n",
       "      <td>...</td>\n",
       "      <td>...</td>\n",
       "    </tr>\n",
       "    <tr>\n",
       "      <th>230844</th>\n",
       "      <td>Soul</td>\n",
       "      <td>Seinabo Sey</td>\n",
       "      <td>Younger - Bonus Track / Acoustic Version</td>\n",
       "      <td>53</td>\n",
       "      <td>0.479</td>\n",
       "      <td>0.000000</td>\n",
       "      <td>0</td>\n",
       "      <td>1</td>\n",
       "    </tr>\n",
       "    <tr>\n",
       "      <th>230914</th>\n",
       "      <td>Soul</td>\n",
       "      <td>Paolo Nutini</td>\n",
       "      <td>These Streets</td>\n",
       "      <td>52</td>\n",
       "      <td>0.721</td>\n",
       "      <td>0.000000</td>\n",
       "      <td>0</td>\n",
       "      <td>1</td>\n",
       "    </tr>\n",
       "    <tr>\n",
       "      <th>231246</th>\n",
       "      <td>Soul</td>\n",
       "      <td>LION BABE</td>\n",
       "      <td>Honey Dew</td>\n",
       "      <td>45</td>\n",
       "      <td>0.674</td>\n",
       "      <td>0.007340</td>\n",
       "      <td>0</td>\n",
       "      <td>1</td>\n",
       "    </tr>\n",
       "    <tr>\n",
       "      <th>231895</th>\n",
       "      <td>Soul</td>\n",
       "      <td>Sports</td>\n",
       "      <td>Shiggy</td>\n",
       "      <td>41</td>\n",
       "      <td>0.554</td>\n",
       "      <td>0.000224</td>\n",
       "      <td>0</td>\n",
       "      <td>1</td>\n",
       "    </tr>\n",
       "    <tr>\n",
       "      <th>232694</th>\n",
       "      <td>Soul</td>\n",
       "      <td>Klyne</td>\n",
       "      <td>Ecstacy</td>\n",
       "      <td>46</td>\n",
       "      <td>0.633</td>\n",
       "      <td>0.000023</td>\n",
       "      <td>0</td>\n",
       "      <td>1</td>\n",
       "    </tr>\n",
       "  </tbody>\n",
       "</table>\n",
       "<p>4106 rows × 8 columns</p>\n",
       "</div>"
      ],
      "text/plain": [
       "       genre          artist                                         track  \\\n",
       "138      R&B        Surfaces                     Heaven Falls / Fall on Me   \n",
       "139      R&B  Olivia O'Brien                                   Love Myself   \n",
       "146      R&B         Beyoncé                                Flawless Remix   \n",
       "149      R&B        Big Sean                                        I Know   \n",
       "152      R&B    Jessie Reyez  Body Count (feat. Normani & Kehlani) - Remix   \n",
       "...      ...             ...                                           ...   \n",
       "230844  Soul     Seinabo Sey      Younger - Bonus Track / Acoustic Version   \n",
       "230914  Soul    Paolo Nutini                                 These Streets   \n",
       "231246  Soul       LION BABE                                     Honey Dew   \n",
       "231895  Soul          Sports                                        Shiggy   \n",
       "232694  Soul           Klyne                                       Ecstacy   \n",
       "\n",
       "        popularity  danceability  instrumentalness  favorite  prediction  \n",
       "138             61         0.563          0.002430         0           1  \n",
       "139             68         0.653          0.000000         0           1  \n",
       "146             69         0.639          0.000008         0           1  \n",
       "149             66         0.741          0.000000         0           1  \n",
       "152             62         0.703          0.000000         0           1  \n",
       "...            ...           ...               ...       ...         ...  \n",
       "230844          53         0.479          0.000000         0           1  \n",
       "230914          52         0.721          0.000000         0           1  \n",
       "231246          45         0.674          0.007340         0           1  \n",
       "231895          41         0.554          0.000224         0           1  \n",
       "232694          46         0.633          0.000023         0           1  \n",
       "\n",
       "[4106 rows x 8 columns]"
      ]
     },
     "execution_count": 39,
     "metadata": {},
     "output_type": "execute_result"
    }
   ],
   "source": [
    "future"
   ]
  },
  {
   "cell_type": "code",
   "execution_count": 218,
   "metadata": {},
   "outputs": [],
   "source": [
    "# Saving csv\n",
    "future.to_csv(\"recommendations.csv\")"
   ]
  },
  {
   "cell_type": "markdown",
   "metadata": {},
   "source": [
    "### Conclusions\n",
    "After converting recommendations.csv into a Spoitfy playlist, I was able to browse and listen to the recommendations. Ultimately, I quite enjoyed the recommendations except for a couple \"what?\" reactions to a few songs here and there. \n",
    "You can test the model for yourself at [whatspopping.xyz](http://www.whatspopping.xyz/)! Let me know what you think. :)"
   ]
  }
 ],
 "metadata": {
  "kernelspec": {
   "display_name": "Python 3",
   "language": "python",
   "name": "python3"
  },
  "language_info": {
   "codemirror_mode": {
    "name": "ipython",
    "version": 3
   },
   "file_extension": ".py",
   "mimetype": "text/x-python",
   "name": "python",
   "nbconvert_exporter": "python",
   "pygments_lexer": "ipython3",
   "version": "3.8.2"
  }
 },
 "nbformat": 4,
 "nbformat_minor": 2
}
